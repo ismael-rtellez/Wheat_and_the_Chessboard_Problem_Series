{
  "nbformat": 4,
  "nbformat_minor": 0,
  "metadata": {
    "colab": {
      "provenance": [],
      "toc_visible": true,
      "authorship_tag": "ABX9TyNy9yMfs1B+VOeMoGVP7txM",
      "include_colab_link": true
    },
    "kernelspec": {
      "name": "python3",
      "display_name": "Python 3"
    },
    "language_info": {
      "name": "python"
    }
  },
  "cells": [
    {
      "cell_type": "markdown",
      "metadata": {
        "id": "view-in-github",
        "colab_type": "text"
      },
      "source": [
        "<a href=\"https://colab.research.google.com/github/ismael-rtellez/Wheat_and_the_Chessboard_Problem_Series/blob/main/Wheat_and_the_Chessboard_problem.ipynb\" target=\"_parent\"><img src=\"https://colab.research.google.com/assets/colab-badge.svg\" alt=\"Open In Colab\"/></a>"
      ]
    },
    {
      "cell_type": "markdown",
      "source": [
        "## Problem 1: Number of wheat on a 2 x 2 square chess board"
      ],
      "metadata": {
        "id": "Lnq0u1K3XYEs"
      }
    },
    {
      "cell_type": "code",
      "execution_count": 17,
      "metadata": {
        "colab": {
          "base_uri": "https://localhost:8080/"
        },
        "id": "rHQYubqwW8tx",
        "outputId": "e0c79114-3518-451f-ac0b-68e5c37bc64a"
      },
      "outputs": [
        {
          "output_type": "stream",
          "name": "stdout",
          "text": [
            "Arrange wheat on a plate of 2x2: \n",
            " [[1 2]\n",
            " [4 8]]\n"
          ]
        }
      ],
      "source": [
        "import numpy as np\n",
        "\n",
        "n_squares = 4                   #Enter the amount of data that the list will have\n",
        "small_board_list = [1]          #We create the list and add the first value\n",
        "for i in range(n_squares - 1):                        #we run through the list with a for\n",
        "    small_board_list.append(2*small_board_list[-1])   #and add twice the previous value\n",
        "\n",
        "small_board_ndarray = np.array(small_board_list)      #convert the list into an array\n",
        "small_board_2x2 = small_board_ndarray.reshape((2, 2)) #reshape the array in a matrix 2x2\n",
        "print(\"Arrange wheat on a plate of 2x2: \\n\", (small_board_2x2))"
      ]
    },
    {
      "cell_type": "markdown",
      "source": [
        "## Problem 2: Expansion to n × m mass"
      ],
      "metadata": {
        "id": "CTy9iY70XeYD"
      }
    },
    {
      "cell_type": "code",
      "source": [
        "import numpy as np\n",
        "\n",
        "def expansion_to_nxm(lenght, n, m):           #Create the function\n",
        "  n_squares = lenght                          #Initialize the amount of data of the list\n",
        "  small_board_list = [1]                      #We create the list and add the first value\n",
        "  for i in range(n_squares - 1):                          #we run through the list with a for\n",
        "    small_board_list.append(2*small_board_list[-1])       #and add twice the previous value\n",
        "\n",
        "  small_board_ndarray = np.array(small_board_list)        #convert the list into an array\n",
        "  small_board_nxm = small_board_ndarray.reshape((n, m))   #reshape the array in a matrix according to data n, m\n",
        "  return small_board_nxm\n",
        "\n",
        "n, m = 8, 8               #Choose the values of columns and rows\n",
        "lenght = n * m            #we multiply to know the amount of data\n",
        "result_matrix = expansion_to_nxm(lenght, n, m)   #call the function giving them the data to use\n",
        "print(\"Arrange wheat on a plate of\",(n) ,\"x\",(m) ,\": \\n\", (result_matrix))"
      ],
      "metadata": {
        "colab": {
          "base_uri": "https://localhost:8080/"
        },
        "id": "otwWfJG6Xi4U",
        "outputId": "0a239947-103e-4e2e-9d0c-e3c3eebc3e3f"
      },
      "execution_count": 18,
      "outputs": [
        {
          "output_type": "stream",
          "name": "stdout",
          "text": [
            "Arrange wheat on a plate of 8 x 8 : \n",
            " [[1.00000000e+00 2.00000000e+00 4.00000000e+00 8.00000000e+00\n",
            "  1.60000000e+01 3.20000000e+01 6.40000000e+01 1.28000000e+02]\n",
            " [2.56000000e+02 5.12000000e+02 1.02400000e+03 2.04800000e+03\n",
            "  4.09600000e+03 8.19200000e+03 1.63840000e+04 3.27680000e+04]\n",
            " [6.55360000e+04 1.31072000e+05 2.62144000e+05 5.24288000e+05\n",
            "  1.04857600e+06 2.09715200e+06 4.19430400e+06 8.38860800e+06]\n",
            " [1.67772160e+07 3.35544320e+07 6.71088640e+07 1.34217728e+08\n",
            "  2.68435456e+08 5.36870912e+08 1.07374182e+09 2.14748365e+09]\n",
            " [4.29496730e+09 8.58993459e+09 1.71798692e+10 3.43597384e+10\n",
            "  6.87194767e+10 1.37438953e+11 2.74877907e+11 5.49755814e+11]\n",
            " [1.09951163e+12 2.19902326e+12 4.39804651e+12 8.79609302e+12\n",
            "  1.75921860e+13 3.51843721e+13 7.03687442e+13 1.40737488e+14]\n",
            " [2.81474977e+14 5.62949953e+14 1.12589991e+15 2.25179981e+15\n",
            "  4.50359963e+15 9.00719925e+15 1.80143985e+16 3.60287970e+16]\n",
            " [7.20575940e+16 1.44115188e+17 2.88230376e+17 5.76460752e+17\n",
            "  1.15292150e+18 2.30584301e+18 4.61168602e+18 9.22337204e+18]]\n"
          ]
        }
      ]
    },
    {
      "cell_type": "markdown",
      "source": [
        "## Problem 3: Total number of wheat"
      ],
      "metadata": {
        "id": "1Qf1HPBUXjHU"
      }
    },
    {
      "cell_type": "code",
      "source": [
        "import matplotlib.pyplot as plt\n",
        "%matplotlib inline\n",
        "\n",
        "sum_total = np.sum(result_matrix)       #We sum all the values of the matrix\n",
        "print(\"Total number of wheat on a chess board of 8x8 squares:\", (sum_total))\n",
        "\n",
        "graph = result_matrix.mean(axis=0)    #we take the averages for each column of the matrix\n",
        "print(\"\\n\", (graph))\n",
        "\n",
        "#we plot and customize the graph according to our preference\n",
        "\n",
        "plt.xlabel(\"Column\", size=14)\n",
        "plt.ylabel(\"Number\", size=14)\n",
        "plt.title(\"Number in each Column\", size=18)\n",
        "plt.bar(np.arange(1, 9), graph)\n",
        "plt.grid(True)\n",
        "plt.show()"
      ],
      "metadata": {
        "colab": {
          "base_uri": "https://localhost:8080/",
          "height": 555
        },
        "id": "baErNn-AXomc",
        "outputId": "83da5357-df98-4ead-f7ea-34cd1c332b2f"
      },
      "execution_count": 19,
      "outputs": [
        {
          "output_type": "stream",
          "name": "stdout",
          "text": [
            "Total number of wheat on a chess board of 8x8 squares: 1.8446744073709552e+19\n",
            "\n",
            " [9.04252160e+15 1.80850432e+16 3.61700864e+16 7.23401728e+16\n",
            " 1.44680346e+17 2.89360691e+17 5.78721383e+17 1.15744277e+18]\n"
          ]
        },
        {
          "output_type": "display_data",
          "data": {
            "text/plain": [
              "<Figure size 640x480 with 1 Axes>"
            ],
            "image/png": "[encoded data removed]"
          },
          "metadata": {}
        }
      ]
    },
    {
      "cell_type": "markdown",
      "source": [
        "## Problem 4: Heat map of the number of wheat"
      ],
      "metadata": {
        "id": "HYuGIeJjXo0b"
      }
    },
    {
      "cell_type": "code",
      "source": [
        "plt.xlabel(\"Column\", size=14)\n",
        "plt.ylabel(\"Row\", size=14)\n",
        "plt.title(\"Heatmap\",size=22)\n",
        "plt.pcolor(result_matrix.reshape(8, 8))\n",
        "plt.show()"
      ],
      "metadata": {
        "colab": {
          "base_uri": "https://localhost:8080/",
          "height": 486
        },
        "id": "llNrWo73Xtnw",
        "outputId": "1818125b-931d-405e-90bf-087e18be3d02"
      },
      "execution_count": 20,
      "outputs": [
        {
          "output_type": "display_data",
          "data": {
            "text/plain": [
              "<Figure size 640x480 with 1 Axes>"
            ],
            "image/png": "[encoded data removed]"
          },
          "metadata": {}
        }
      ]
    },
    {
      "cell_type": "markdown",
      "source": [
        "## Problem 5: How many times is the second half as long as the first half?"
      ],
      "metadata": {
        "id": "Lx7cvpf3Xt0t"
      }
    },
    {
      "cell_type": "code",
      "source": [
        "first_half, second_half = np.hsplit(graph, [4])   #we divide in half the “graph” arrangement we made earlier\n",
        "first_half_sum = np.sum(first_half)               #we add all the values of the first half\n",
        "second_half_sum = np.sum(second_half)             #we add all the values of the second half\n",
        "\n",
        "#we divide the sum of the second half by the first half to know how many times this second half exceeds the first half\n",
        "times_second_double_first = second_half_sum/first_half_sum\n",
        "print(\"The number of times the second half doubles the first half is:\", (times_second_double_first))"
      ],
      "metadata": {
        "colab": {
          "base_uri": "https://localhost:8080/"
        },
        "id": "X2cLQ8MTXyJh",
        "outputId": "33bfcf9b-354e-4823-f346-f6de7b78ff32"
      },
      "execution_count": 21,
      "outputs": [
        {
          "output_type": "stream",
          "name": "stdout",
          "text": [
            "The number of times the second half doubles the first half is: 16.0\n"
          ]
        }
      ]
    },
    {
      "cell_type": "markdown",
      "source": [
        "## Problem 6: Expansion to n × m mass by another calculation method"
      ],
      "metadata": {
        "id": "87l_QZzvXylV"
      }
    },
    {
      "cell_type": "code",
      "source": [
        "import numpy as np\n",
        "\n",
        "def expansion_to_nxm_npappend(squares, n, m):\n",
        "  n_squares = squares\n",
        "  small_board_ndarray = np.array([1]).astype(np.uint64)           #we convert to another type of unit to avoid problems\n",
        "  for i in range(n_squares - 1):\n",
        "    small_board_ndarray = np.append(small_board_ndarray, 2*small_board_ndarray[-1])\n",
        "\n",
        "  small_board_append = np.array(small_board_ndarray)              #convert the list into an array\n",
        "  small_board_nxm_append = small_board_append.reshape((n, m))     #reshape the array in a matrix according to data n, m\n",
        "  return small_board_nxm_append\n",
        "\n",
        "n, m =  8, 8                        #Choose the values of columns and rows\n",
        "squares = n * m                     #we multiply to know the amount of data\n",
        "result_npappend = expansion_to_nxm_npappend(squares, n, m)  #call the function giving them the data to use\n",
        "print(result_npappend)\n",
        "\n",
        "print()\n",
        "\n",
        "def expansion_to_nxm_broadcast(squares_broadc, n, m):\n",
        "  n_squares_bc = squares_broadc\n",
        "  indices_of_squares = np.arange(n_squares_bc).astype(np.uint64)  #we convert to another type of unit to avoid problems\n",
        "  small_board_ndarray_b = 2**indices_of_squares\n",
        "\n",
        "  small_board_broac = np.array(small_board_ndarray_b)             #convert the list into an array\n",
        "  small_board_nxm_broadcast = small_board_broac.reshape((n, m))   #reshape the array in a matrix according to data n, m\n",
        "  return small_board_nxm_broadcast\n",
        "\n",
        "n, m =  8, 8                         #Choose the values of columns and rows\n",
        "squares_broadc = n * m               #we multiply to know the amount of data\n",
        "result_broadcast= expansion_to_nxm_broadcast(squares_broadc, n, m)  #call the function giving them the data to use\n",
        "print(result_broadcast)\n"
      ],
      "metadata": {
        "colab": {
          "base_uri": "https://localhost:8080/"
        },
        "id": "mYEEQjGfX4lL",
        "outputId": "d12acff1-f9c8-4195-e670-6c43bc662a30"
      },
      "execution_count": null,
      "outputs": [
        {
          "output_type": "stream",
          "name": "stdout",
          "text": [
            "[[                  1                   2                   4\n",
            "                    8                  16                  32\n",
            "                   64                 128]\n",
            " [                256                 512                1024\n",
            "                 2048                4096                8192\n",
            "                16384               32768]\n",
            " [              65536              131072              262144\n",
            "               524288             1048576             2097152\n",
            "              4194304             8388608]\n",
            " [           16777216            33554432            67108864\n",
            "            134217728           268435456           536870912\n",
            "           1073741824          2147483648]\n",
            " [         4294967296          8589934592         17179869184\n",
            "          34359738368         68719476736        137438953472\n",
            "         274877906944        549755813888]\n",
            " [      1099511627776       2199023255552       4398046511104\n",
            "        8796093022208      17592186044416      35184372088832\n",
            "       70368744177664     140737488355328]\n",
            " [    281474976710656     562949953421312    1125899906842624\n",
            "     2251799813685248    4503599627370496    9007199254740992\n",
            "    18014398509481984   36028797018963968]\n",
            " [  72057594037927936  144115188075855872  288230376151711744\n",
            "   576460752303423488 1152921504606846976 2305843009213693952\n",
            "  4611686018427387904 9223372036854775808]]\n",
            "\n",
            "[[                  1                   2                   4\n",
            "                    8                  16                  32\n",
            "                   64                 128]\n",
            " [                256                 512                1024\n",
            "                 2048                4096                8192\n",
            "                16384               32768]\n",
            " [              65536              131072              262144\n",
            "               524288             1048576             2097152\n",
            "              4194304             8388608]\n",
            " [           16777216            33554432            67108864\n",
            "            134217728           268435456           536870912\n",
            "           1073741824          2147483648]\n",
            " [         4294967296          8589934592         17179869184\n",
            "          34359738368         68719476736        137438953472\n",
            "         274877906944        549755813888]\n",
            " [      1099511627776       2199023255552       4398046511104\n",
            "        8796093022208      17592186044416      35184372088832\n",
            "       70368744177664     140737488355328]\n",
            " [    281474976710656     562949953421312    1125899906842624\n",
            "     2251799813685248    4503599627370496    9007199254740992\n",
            "    18014398509481984   36028797018963968]\n",
            " [  72057594037927936  144115188075855872  288230376151711744\n",
            "   576460752303423488 1152921504606846976 2305843009213693952\n",
            "  4611686018427387904 9223372036854775808]]\n"
          ]
        }
      ]
    },
    {
      "cell_type": "markdown",
      "source": [
        "## Problem 7: Comparing calculation times"
      ],
      "metadata": {
        "id": "bermt7FAX46O"
      }
    },
    {
      "cell_type": "code",
      "source": [
        "%%timeit\n",
        "\"\"\"Average time of execution of problem 2:\"\"\"\n",
        "n, m = 8, 8\n",
        "lenght = n * m\n",
        "result = expansion_to_nxm(lenght, n, m)\n"
      ],
      "metadata": {
        "colab": {
          "base_uri": "https://localhost:8080/"
        },
        "id": "8k2s9ZuwX8wd",
        "outputId": "196e4bc8-c76e-4963-c513-77a15307c62f"
      },
      "execution_count": null,
      "outputs": [
        {
          "output_type": "stream",
          "name": "stdout",
          "text": [
            "14.6 µs ± 2.84 µs per loop (mean ± std. dev. of 7 runs, 100000 loops each)\n"
          ]
        }
      ]
    },
    {
      "cell_type": "code",
      "source": [
        "%%timeit\n",
        "\"\"\"Average time of the first method of execution of problem 6:\"\"\"\n",
        "n, m = 8, 8\n",
        "squares = n * m\n",
        "result_npappend = expansion_to_nxm_npappend(squares, n, m)\n"
      ],
      "metadata": {
        "id": "0EPar_BrW2BC",
        "colab": {
          "base_uri": "https://localhost:8080/"
        },
        "outputId": "8a1e645f-dcd1-48b3-fe1f-77bb8d60c8e3"
      },
      "execution_count": null,
      "outputs": [
        {
          "output_type": "stream",
          "name": "stdout",
          "text": [
            "298 µs ± 88.8 µs per loop (mean ± std. dev. of 7 runs, 1000 loops each)\n"
          ]
        }
      ]
    },
    {
      "cell_type": "code",
      "source": [
        "%%timeit\n",
        "\"\"\"Average time of the second method of execution of problem 6:\"\"\"\n",
        "n, m = 8, 8\n",
        "squares_broadc = n * m\n",
        "result_broadcast= expansion_to_nxm_broadcast(squares_broadc, n, m)\n"
      ],
      "metadata": {
        "colab": {
          "base_uri": "https://localhost:8080/"
        },
        "id": "KepIUBrHVNXx",
        "outputId": "080bf820-e7f8-4ec7-a907-8ab975faa40f"
      },
      "execution_count": null,
      "outputs": [
        {
          "output_type": "stream",
          "name": "stdout",
          "text": [
            "4.07 µs ± 297 ns per loop (mean ± std. dev. of 7 runs, 100000 loops each)\n"
          ]
        }
      ]
    }
  ]
}